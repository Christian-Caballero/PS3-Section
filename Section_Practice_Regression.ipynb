{
 "cells": [
  {
   "cell_type": "markdown",
   "id": "fb0a30bc-740d-4372-b401-969f244a4394",
   "metadata": {},
   "source": [
    "### For this practice, we will look a set of data on life expectancy and GDP per capita in 2015."
   ]
  },
  {
   "cell_type": "code",
   "execution_count": 3,
   "id": "6193b742-7bb7-4151-ae89-f8d5970a944d",
   "metadata": {},
   "outputs": [
    {
     "data": {
      "text/html": [
       "<table class=\"dataframe\">\n",
       "<caption>A data.frame: 6 × 3</caption>\n",
       "<thead>\n",
       "\t<tr><th></th><th scope=col>cname</th><th scope=col>expectancy</th><th scope=col>gdp_per_capita</th></tr>\n",
       "\t<tr><th></th><th scope=col>&lt;chr&gt;</th><th scope=col>&lt;dbl&gt;</th><th scope=col>&lt;dbl&gt;</th></tr>\n",
       "</thead>\n",
       "<tbody>\n",
       "\t<tr><th scope=row>1</th><td>Afghanistan</td><td>63.377</td><td> 1928</td></tr>\n",
       "\t<tr><th scope=row>2</th><td>Albania    </td><td>78.025</td><td>10032</td></tr>\n",
       "\t<tr><th scope=row>3</th><td>Algeria    </td><td>76.090</td><td>14004</td></tr>\n",
       "\t<tr><th scope=row>4</th><td>Angola     </td><td>59.398</td><td> 8689</td></tr>\n",
       "\t<tr><th scope=row>5</th><td>Argentina  </td><td>76.068</td><td>19502</td></tr>\n",
       "\t<tr><th scope=row>6</th><td>Armenia    </td><td>74.467</td><td>10042</td></tr>\n",
       "</tbody>\n",
       "</table>\n"
      ],
      "text/latex": [
       "A data.frame: 6 × 3\n",
       "\\begin{tabular}{r|lll}\n",
       "  & cname & expectancy & gdp\\_per\\_capita\\\\\n",
       "  & <chr> & <dbl> & <dbl>\\\\\n",
       "\\hline\n",
       "\t1 & Afghanistan & 63.377 &  1928\\\\\n",
       "\t2 & Albania     & 78.025 & 10032\\\\\n",
       "\t3 & Algeria     & 76.090 & 14004\\\\\n",
       "\t4 & Angola      & 59.398 &  8689\\\\\n",
       "\t5 & Argentina   & 76.068 & 19502\\\\\n",
       "\t6 & Armenia     & 74.467 & 10042\\\\\n",
       "\\end{tabular}\n"
      ],
      "text/markdown": [
       "\n",
       "A data.frame: 6 × 3\n",
       "\n",
       "| <!--/--> | cname &lt;chr&gt; | expectancy &lt;dbl&gt; | gdp_per_capita &lt;dbl&gt; |\n",
       "|---|---|---|---|\n",
       "| 1 | Afghanistan | 63.377 |  1928 |\n",
       "| 2 | Albania     | 78.025 | 10032 |\n",
       "| 3 | Algeria     | 76.090 | 14004 |\n",
       "| 4 | Angola      | 59.398 |  8689 |\n",
       "| 5 | Argentina   | 76.068 | 19502 |\n",
       "| 6 | Armenia     | 74.467 | 10042 |\n",
       "\n"
      ],
      "text/plain": [
       "  cname       expectancy gdp_per_capita\n",
       "1 Afghanistan 63.377      1928         \n",
       "2 Albania     78.025     10032         \n",
       "3 Algeria     76.090     14004         \n",
       "4 Angola      59.398      8689         \n",
       "5 Argentina   76.068     19502         \n",
       "6 Armenia     74.467     10042         "
      ]
     },
     "metadata": {},
     "output_type": "display_data"
    }
   ],
   "source": [
    "life_gdp <- read.csv(\"./data.csv\")\n",
    "head(life_gdp)"
   ]
  },
  {
   "cell_type": "markdown",
   "id": "f7d57f0f-3624-4d3f-95f9-7cc3f7532920",
   "metadata": {},
   "source": [
    "### Quick check 1\n",
    "\n",
    "Plot the life expectancy against the GDP per capita below."
   ]
  },
  {
   "cell_type": "code",
   "execution_count": null,
   "id": "7dba1d8e-66bd-4520-93ce-a4876c12066e",
   "metadata": {},
   "outputs": [],
   "source": [
    "library(ggplot2)\n",
    "qplot(...)"
   ]
  },
  {
   "cell_type": "markdown",
   "id": "44b318c3-fe39-4be3-a715-31b78d8e842f",
   "metadata": {},
   "source": [
    "### Quick check 2\n",
    "\n",
    "Reconstruct the same plot but add the line of best fit (hint: use the `geom_smooth()` function )"
   ]
  },
  {
   "cell_type": "code",
   "execution_count": 4,
   "id": "984ae445-c52b-413b-be20-88de0260c9b2",
   "metadata": {},
   "outputs": [],
   "source": [
    "### Your Code Here"
   ]
  },
  {
   "cell_type": "markdown",
   "id": "d4c02d07-56bb-429f-bafd-463571fe4612",
   "metadata": {},
   "source": [
    "### Quick check 3\n",
    "\n",
    "Obtain the formula for the straight line above, by running a regression of `gdp_per_capita` against `expectancy`"
   ]
  },
  {
   "cell_type": "code",
   "execution_count": null,
   "id": "ebffe133-9585-4498-a762-bf2ae3839df8",
   "metadata": {},
   "outputs": [],
   "source": [
    "summary(lm(...))"
   ]
  },
  {
   "cell_type": "markdown",
   "id": "10338f53-8e39-41c0-9782-1b593d10d004",
   "metadata": {},
   "source": [
    "### Quick check 4\n",
    "\n",
    "Write the formula of the line below."
   ]
  },
  {
   "cell_type": "markdown",
   "id": "831b176a-31e0-4a43-8a63-1f6d53f37115",
   "metadata": {},
   "source": [
    "your answer here"
   ]
  },
  {
   "cell_type": "markdown",
   "id": "06ceadc5-0d54-4857-96dd-0a7d510f508d",
   "metadata": {},
   "source": [
    "### Quick check 5\n",
    "\n",
    "By hand, find the predicted life expectancy for a country with GDP per capita of US$20,000"
   ]
  },
  {
   "cell_type": "markdown",
   "id": "a8606a2f-1160-43d5-9a4d-98306ce5f71b",
   "metadata": {},
   "source": [
    "your answer here"
   ]
  },
  {
   "cell_type": "markdown",
   "id": "5c94155c-f515-464a-acf5-f0b792d84bc0",
   "metadata": {},
   "source": [
    "### Quick check 6\n",
    "\n",
    "Can you use the regression results above to predict the life expectancy for a country with GDP per capita of US$300,000?"
   ]
  },
  {
   "cell_type": "markdown",
   "id": "217d887b-c10e-49cb-9636-e1eff8249296",
   "metadata": {},
   "source": [
    "your answer here"
   ]
  }
 ],
 "metadata": {
  "kernelspec": {
   "display_name": "R",
   "language": "R",
   "name": "ir"
  },
  "language_info": {
   "codemirror_mode": "r",
   "file_extension": ".r",
   "mimetype": "text/x-r-source",
   "name": "R",
   "pygments_lexer": "r",
   "version": "4.3.2"
  }
 },
 "nbformat": 4,
 "nbformat_minor": 5
}
